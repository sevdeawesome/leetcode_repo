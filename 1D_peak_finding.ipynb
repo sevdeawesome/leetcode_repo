{
 "cells": [
  {
   "cell_type": "code",
   "execution_count": 12,
   "metadata": {},
   "outputs": [],
   "source": [
    "arr = [8,2,3,4,5,6,5,6,5,4,3,2,1]\n",
    "\n"
   ]
  },
  {
   "cell_type": "code",
   "execution_count": 27,
   "metadata": {},
   "outputs": [],
   "source": [
    "# return the index of a peak where arr[j-1] < arr[j] > arr[j+1]\n",
    "def peakFind(arr):\n",
    "    j = len(arr) // 2 # center index\n",
    "    # if arr[j] < arr[j-1] only look at the left side, because if it is less than its left there must be a peak on the left side\n",
    "    if j > 0 and arr[j] < arr[j-1]:\n",
    "        print(\"condition 1\",arr)\n",
    "        return peakFind(arr[:j])\n",
    "    # if arr[j] < arr[j+1] only look at the right side\n",
    "    elif j < len(arr) - 1 and arr[j] < arr[j+1]:\n",
    "        print(\"condition 2\",arr)\n",
    "        return peakFind(arr[j+1:])\n",
    "    else:\n",
    "        print(\"condition 3\",arr)\n",
    "        return arr[j]"
   ]
  },
  {
   "cell_type": "code",
   "execution_count": 28,
   "metadata": {},
   "outputs": [
    {
     "name": "stdout",
     "output_type": "stream",
     "text": [
      "condition 2 [0, 1, 23, 40, 0]\n",
      "condition 1 [40, 0]\n",
      "condition 3 [40]\n"
     ]
    },
    {
     "data": {
      "text/plain": [
       "40"
      ]
     },
     "execution_count": 28,
     "metadata": {},
     "output_type": "execute_result"
    }
   ],
   "source": [
    "peakFind([0,1,23,40,0])"
   ]
  },
  {
   "cell_type": "code",
   "execution_count": 15,
   "metadata": {},
   "outputs": [
    {
     "ename": "IndexError",
     "evalue": "list index out of range",
     "output_type": "error",
     "traceback": [
      "\u001b[1;31m---------------------------------------------------------------------------\u001b[0m",
      "\u001b[1;31mIndexError\u001b[0m                                Traceback (most recent call last)",
      "\u001b[1;32m<ipython-input-15-8af999a3153f>\u001b[0m in \u001b[0;36m<module>\u001b[1;34m\u001b[0m\n\u001b[1;32m----> 1\u001b[1;33m \u001b[0marr\u001b[0m\u001b[1;33m[\u001b[0m\u001b[1;36m20\u001b[0m\u001b[1;33m]\u001b[0m\u001b[1;33m\u001b[0m\u001b[1;33m\u001b[0m\u001b[0m\n\u001b[0m",
      "\u001b[1;31mIndexError\u001b[0m: list index out of range"
     ]
    }
   ],
   "source": [
    "arr[20]"
   ]
  },
  {
   "cell_type": "code",
   "execution_count": null,
   "metadata": {},
   "outputs": [],
   "source": []
  }
 ],
 "metadata": {
  "interpreter": {
   "hash": "ca49ff0ffe1808df299e2fa61a14697f92eb8fb3e9a660d64db98d3fdcc9e2a2"
  },
  "kernelspec": {
   "display_name": "Python 3.8.8 ('base')",
   "language": "python",
   "name": "python3"
  },
  "language_info": {
   "codemirror_mode": {
    "name": "ipython",
    "version": 3
   },
   "file_extension": ".py",
   "mimetype": "text/x-python",
   "name": "python",
   "nbconvert_exporter": "python",
   "pygments_lexer": "ipython3",
   "version": "3.8.8"
  },
  "orig_nbformat": 4
 },
 "nbformat": 4,
 "nbformat_minor": 2
}
