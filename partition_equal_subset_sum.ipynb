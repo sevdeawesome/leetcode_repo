{
 "cells": [
  {
   "cell_type": "code",
   "execution_count": 1,
   "metadata": {},
   "outputs": [],
   "source": [
    "# https://leetcode.com/problems/partition-equal-subset-sum/"
   ]
  },
  {
   "cell_type": "code",
   "execution_count": 2,
   "metadata": {},
   "outputs": [],
   "source": [
    "# create an empty set\n",
    "set = set()\n"
   ]
  },
  {
   "cell_type": "code",
   "execution_count": 3,
   "metadata": {},
   "outputs": [],
   "source": [
    "# add 5, 6 and 3 to set\n",
    "set.add(5)\n",
    "set.add(6)\n",
    "set.add(3)\n"
   ]
  },
  {
   "cell_type": "code",
   "execution_count": 4,
   "metadata": {},
   "outputs": [
    {
     "data": {
      "text/plain": [
       "True"
      ]
     },
     "execution_count": 4,
     "metadata": {},
     "output_type": "execute_result"
    }
   ],
   "source": [
    "5 in set"
   ]
  },
  {
   "cell_type": "code",
   "execution_count": null,
   "metadata": {},
   "outputs": [],
   "source": [
    "def findSum(nums):\n",
    "    sum = 0\n",
    "    for i in nums:\n",
    "        sum = sum + i\n",
    "\n",
    "    return sum\n",
    "\n",
    "def canPartition(nums):\n",
    "    goal = findSum(nums) / 2\n",
    "\n",
    "\n",
    "def partition(nums, goal, pointer):\n",
    "    # if partition(case where you add the number) OR case where you dont: return true, else return false\n",
    "    return False\n"
   ]
  }
 ],
 "metadata": {
  "interpreter": {
   "hash": "0455923e40e2e737c18579ba557e0023258e3f59c5b6158d7ea9815f606bf15f"
  },
  "kernelspec": {
   "display_name": "Python 3.8.8 ('base')",
   "language": "python",
   "name": "python3"
  },
  "language_info": {
   "codemirror_mode": {
    "name": "ipython",
    "version": 3
   },
   "file_extension": ".py",
   "mimetype": "text/x-python",
   "name": "python",
   "nbconvert_exporter": "python",
   "pygments_lexer": "ipython3",
   "version": "3.8.8"
  },
  "orig_nbformat": 4
 },
 "nbformat": 4,
 "nbformat_minor": 2
}
