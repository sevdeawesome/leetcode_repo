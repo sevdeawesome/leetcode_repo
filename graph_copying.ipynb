{
 "cells": [
  {
   "cell_type": "code",
   "execution_count": 1,
   "metadata": {},
   "outputs": [],
   "source": [
    "\"\"\"\n",
    "create the graph\n",
    "A -> B,C,D\n",
    "B -> A\n",
    "C -> A\n",
    "D -> B,C\n",
    "\"\"\"\n",
    "class Node:\n",
    "    def __init__(self, name):\n",
    "        self.name = name\n",
    "        self.neighbors = []\n",
    "\n",
    "    def add_neighbor(self, neighbor):\n",
    "        self.neighbors.append(neighbor)\n",
    "\n",
    "    def __str__(self):\n",
    "        return self.name\n",
    "\n",
    "# create node A\n",
    "A = Node('A')\n",
    "# create Node B\n",
    "B = Node('B')\n",
    "# create Node C\n",
    "C = Node('C')\n",
    "# create Node D\n",
    "D = Node('D')\n",
    "\n",
    "E = Node('E')\n",
    "# add neighbors to A\n",
    "A.add_neighbor(B)\n",
    "A.add_neighbor(C)\n",
    "A.add_neighbor(D)\n",
    "# add neighbors to B\n",
    "B.add_neighbor(A)\n",
    "D.add_neighbor(E)\n",
    "# add neighbors to C\n",
    "C.add_neighbor(A)\n",
    "# add neighbors to D\n",
    "D.add_neighbor(B)\n",
    "D.add_neighbor(C)\n"
   ]
  },
  {
   "cell_type": "code",
   "execution_count": 2,
   "metadata": {},
   "outputs": [],
   "source": [
    "class Node:\n",
    "    def __init__(self, name):\n",
    "        self.name = name\n",
    "        self.neighbors = []\n",
    "\n",
    "    def add_neighbor(self, neighbor):\n",
    "        self.neighbors.append(neighbor)\n",
    "\n",
    "    def __str__(self):\n",
    "        return self.name\n",
    "\n",
    "\n",
    "def cloneGraph(node):\n",
    "    # first clone the node into a new node\n",
    "    # root = node(node.name)\n",
    "    X = Node('A')\n",
    "    # A --> B,C,D\n",
    "    # B --> A\n",
    "    # C --> A\n",
    "    # D --> B,C\n",
    "\n",
    "    # create a queue to store the nodes\n",
    "    queue = [node]\n",
    "    \n",
    "\n",
    "    # mapping in the form {node: clone_node}\n",
    "    mapping = {}\n",
    "\n",
    "    # while the queue is not empty\n",
    "    while queue:\n",
    "        # pop the first node\n",
    "        curr = queue.pop(0)\n",
    "        # create a clone node\n",
    "        clone = node(curr.name)\n",
    "        # add the clone node to the mapping\n",
    "        mapping[curr] = clone\n",
    "        # add the clone node to the queue\n",
    "        queue.append(clone)\n",
    "        # for each neighbor of the current node\n",
    "        for neighbor in curr.neighbors:\n",
    "            # if the neighbor is not in the mapping\n",
    "            if neighbor not in mapping:\n",
    "                # add the neighbor to the queue\n",
    "                queue.append(neighbor)\n",
    "            # add the neighbor to the clone node\n",
    "            mapping[curr].add_neighbor(mapping[neighbor])"
   ]
  },
  {
   "cell_type": "code",
   "execution_count": 3,
   "metadata": {},
   "outputs": [
    {
     "ename": "TypeError",
     "evalue": "'Node' object is not callable",
     "output_type": "error",
     "traceback": [
      "\u001b[1;31m---------------------------------------------------------------------------\u001b[0m",
      "\u001b[1;31mTypeError\u001b[0m                                 Traceback (most recent call last)",
      "\u001b[1;32m<ipython-input-3-c1744b8bd4e8>\u001b[0m in \u001b[0;36m<module>\u001b[1;34m\u001b[0m\n\u001b[1;32m----> 1\u001b[1;33m \u001b[0mcloneGraph\u001b[0m\u001b[1;33m(\u001b[0m\u001b[0mA\u001b[0m\u001b[1;33m)\u001b[0m\u001b[1;33m\u001b[0m\u001b[1;33m\u001b[0m\u001b[0m\n\u001b[0m",
      "\u001b[1;32m<ipython-input-2-5e0bc3e1014e>\u001b[0m in \u001b[0;36mcloneGraph\u001b[1;34m(node)\u001b[0m\n\u001b[0;32m     32\u001b[0m         \u001b[0mcurr\u001b[0m \u001b[1;33m=\u001b[0m \u001b[0mqueue\u001b[0m\u001b[1;33m.\u001b[0m\u001b[0mpop\u001b[0m\u001b[1;33m(\u001b[0m\u001b[1;36m0\u001b[0m\u001b[1;33m)\u001b[0m\u001b[1;33m\u001b[0m\u001b[1;33m\u001b[0m\u001b[0m\n\u001b[0;32m     33\u001b[0m         \u001b[1;31m# create a clone node\u001b[0m\u001b[1;33m\u001b[0m\u001b[1;33m\u001b[0m\u001b[1;33m\u001b[0m\u001b[0m\n\u001b[1;32m---> 34\u001b[1;33m         \u001b[0mclone\u001b[0m \u001b[1;33m=\u001b[0m \u001b[0mnode\u001b[0m\u001b[1;33m(\u001b[0m\u001b[0mcurr\u001b[0m\u001b[1;33m.\u001b[0m\u001b[0mname\u001b[0m\u001b[1;33m)\u001b[0m\u001b[1;33m\u001b[0m\u001b[1;33m\u001b[0m\u001b[0m\n\u001b[0m\u001b[0;32m     35\u001b[0m         \u001b[1;31m# add the clone node to the mapping\u001b[0m\u001b[1;33m\u001b[0m\u001b[1;33m\u001b[0m\u001b[1;33m\u001b[0m\u001b[0m\n\u001b[0;32m     36\u001b[0m         \u001b[0mmapping\u001b[0m\u001b[1;33m[\u001b[0m\u001b[0mcurr\u001b[0m\u001b[1;33m]\u001b[0m \u001b[1;33m=\u001b[0m \u001b[0mclone\u001b[0m\u001b[1;33m\u001b[0m\u001b[1;33m\u001b[0m\u001b[0m\n",
      "\u001b[1;31mTypeError\u001b[0m: 'Node' object is not callable"
     ]
    }
   ],
   "source": [
    "cloneGraph(A)"
   ]
  },
  {
   "cell_type": "code",
   "execution_count": null,
   "metadata": {},
   "outputs": [],
   "source": []
  }
 ],
 "metadata": {
  "interpreter": {
   "hash": "0455923e40e2e737c18579ba557e0023258e3f59c5b6158d7ea9815f606bf15f"
  },
  "kernelspec": {
   "display_name": "Python 3.8.8 ('base')",
   "language": "python",
   "name": "python3"
  },
  "language_info": {
   "codemirror_mode": {
    "name": "ipython",
    "version": 3
   },
   "file_extension": ".py",
   "mimetype": "text/x-python",
   "name": "python",
   "nbconvert_exporter": "python",
   "pygments_lexer": "ipython3",
   "version": "3.8.8"
  },
  "orig_nbformat": 4
 },
 "nbformat": 4,
 "nbformat_minor": 2
}
