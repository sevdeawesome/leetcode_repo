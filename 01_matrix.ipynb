{
 "cells": [
  {
   "cell_type": "code",
   "execution_count": null,
   "metadata": {},
   "outputs": [],
   "source": [
    "class Solution:\n",
    "    def updateMatrix(self, mat: List[List[int]]) -> List[List[int]]:\n",
    "        \n",
    "        nRows=len(mat)\n",
    "        nCols=len(mat[0])\n",
    "        ##for each cell, if 0, result is 0, else bfs to closest 0\n",
    "        res = mat\n",
    "\n",
    "\n",
    "        def bfsBinMatrix(i, j, visited, currDist):\n",
    "\n",
    "            if 0<= i <= nRows-1 and 0<= j <= nCols-1 and (i, j) not in visited:\n",
    "\n",
    "                visited.add( (i, j) )\n",
    "                if mat[i][j] == 0:\n",
    "                    return currDist\n",
    "                \n",
    "                return min(bfsBinMatrix(i + 1, j, visited, currDist+1), bfsBinMatrix(i -1, j, visited, currDist+1), bfsBinMatrix(i, j+1, visited, currDist+1), bfsBinMatrix(i, j-1, visited, currDist+1))\n",
    "            else:\n",
    "                return 10**8\n",
    "            \n",
    "        for i in range(nRows-1):\n",
    "\n",
    "            for j in range(nCols-1):\n",
    "                visited = set()\n",
    "                res[i][j] = bfsBinMatrix(i, j, visited, 0)\n",
    "        return res"
   ]
  }
 ],
 "metadata": {
  "language_info": {
   "name": "python"
  },
  "orig_nbformat": 4
 },
 "nbformat": 4,
 "nbformat_minor": 2
}
