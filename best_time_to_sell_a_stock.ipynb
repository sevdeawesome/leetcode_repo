{
 "cells": [
  {
   "cell_type": "code",
   "execution_count": null,
   "metadata": {},
   "outputs": [],
   "source": [
    "class Solution:\n",
    "    def maxProfit(self, prices: List[int]) -> int:\n",
    "        max_profit = 0\n",
    "        buy_at = 0\n",
    "        sell_at = 1\n",
    "        \n",
    "        while sell_at < len(prices):\n",
    "            profit = prices[sell_at] - prices[buy_at]\n",
    "            if profit > max_profit:\n",
    "                max_profit = profit\n",
    "   \n",
    "            if profit < 0:\n",
    "                buy_at = sell_at\n",
    " \n",
    "            sell_at += 1\n",
    "            \n",
    "\n",
    "        return max_profit"
   ]
  }
 ],
 "metadata": {
  "language_info": {
   "name": "python"
  },
  "orig_nbformat": 4
 },
 "nbformat": 4,
 "nbformat_minor": 2
}
