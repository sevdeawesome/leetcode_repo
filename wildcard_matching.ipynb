{
 "cells": [
  {
   "cell_type": "code",
   "execution_count": 1,
   "metadata": {},
   "outputs": [],
   "source": [
    "class node():\n",
    "    def __init__(self):\n",
    "        self.str1 = \"\"\n",
    "        self.str2 = \"\"\n",
    "\n",
    "    def __init__(self, s =\"\", p=\"\"):\n",
    "        self.str1 = s\n",
    "        self.str2 = p\n",
    "\n",
    "    def check_if_equal(self):\n",
    "        if self.str1 == self.str2:\n",
    "            return True\n",
    "        else:\n",
    "            return False\n",
    "\n",
    "\n",
    "    def get_children(self):\n",
    "        # create a list children\n",
    "        children = []\n",
    "        \n",
    "        # if the first character of the p is a ?\n",
    "        if self.str2 == \"\" or self.str1==\"\":\n",
    "            return children\n",
    "            \n",
    "        # if the first character of the p is a *\n",
    "        elif self.str2[0] == \"*\":\n",
    "            # create a new node with the s and the p without the first character of p (drop the *)\n",
    "            children.append(node(self.str1, self.str2[1:]))\n",
    "            # if the s is not empty\n",
    "            if self.str1 != \"\":\n",
    "                # create a new node with the s without the first character and the p\n",
    "                children.append(node(self.str1[1:], self.str2))\n",
    "            return children\n",
    "        # if s[0] == p[0]\n",
    "        elif self.str1[0] == self.str2[0]:\n",
    "            # create a new node with the s and the p without the first character\n",
    "            children.append(node(self.str1[1:], self.str2[1:]))\n",
    "            return children\n",
    "        else:\n",
    "            return children"
   ]
  },
  {
   "cell_type": "code",
   "execution_count": 5,
   "metadata": {},
   "outputs": [],
   "source": [
    "\n",
    "def matches(str1,str2):\n",
    "    # create a queue\n",
    "    queue = []\n",
    "    # create a node with the s and the p\n",
    "    queue.append(node(str1,str2))\n",
    "    \n",
    "    while queue:\n",
    "        current_node = queue.pop(0)\n",
    "        if current_node.check_if_equal():\n",
    "            return True\n",
    "        if current_node.get_children():\n",
    "            for child in current_node.get_children():\n",
    "                queue.append(child)\n",
    "\n",
    "    \n",
    "    return False"
   ]
  },
  {
   "cell_type": "code",
   "execution_count": 7,
   "metadata": {},
   "outputs": [
    {
     "data": {
      "text/plain": [
       "True"
      ]
     },
     "execution_count": 7,
     "metadata": {},
     "output_type": "execute_result"
    }
   ],
   "source": [
    "matches(\"hello\", \"*o\")"
   ]
  },
  {
   "cell_type": "code",
   "execution_count": 21,
   "metadata": {},
   "outputs": [],
   "source": [
    "n = node()"
   ]
  },
  {
   "cell_type": "code",
   "execution_count": 29,
   "metadata": {},
   "outputs": [
    {
     "data": {
      "text/plain": [
       "[2, 3, 4, 5, 6, [9, 10, 11], 9]"
      ]
     },
     "execution_count": 29,
     "metadata": {},
     "output_type": "execute_result"
    }
   ],
   "source": [
    "arr"
   ]
  },
  {
   "cell_type": "code",
   "execution_count": 30,
   "metadata": {},
   "outputs": [],
   "source": [
    "# add 12,13,14 to arr\n",
    "arr.extend([12,13,14])"
   ]
  },
  {
   "cell_type": "code",
   "execution_count": 31,
   "metadata": {},
   "outputs": [
    {
     "data": {
      "text/plain": [
       "[2, 3, 4, 5, 6, [9, 10, 11], 9, 12, 13, 14]"
      ]
     },
     "execution_count": 31,
     "metadata": {},
     "output_type": "execute_result"
    }
   ],
   "source": [
    "arr"
   ]
  },
  {
   "cell_type": "code",
   "execution_count": 32,
   "metadata": {},
   "outputs": [],
   "source": [
    "arr.extend([])"
   ]
  },
  {
   "cell_type": "code",
   "execution_count": 33,
   "metadata": {},
   "outputs": [
    {
     "data": {
      "text/plain": [
       "[2, 3, 4, 5, 6, [9, 10, 11], 9, 12, 13, 14]"
      ]
     },
     "execution_count": 33,
     "metadata": {},
     "output_type": "execute_result"
    }
   ],
   "source": [
    "arr"
   ]
  },
  {
   "cell_type": "code",
   "execution_count": null,
   "metadata": {},
   "outputs": [],
   "source": []
  }
 ],
 "metadata": {
  "interpreter": {
   "hash": "ca49ff0ffe1808df299e2fa61a14697f92eb8fb3e9a660d64db98d3fdcc9e2a2"
  },
  "kernelspec": {
   "display_name": "Python 3.8.8 ('base')",
   "language": "python",
   "name": "python3"
  },
  "language_info": {
   "codemirror_mode": {
    "name": "ipython",
    "version": 3
   },
   "file_extension": ".py",
   "mimetype": "text/x-python",
   "name": "python",
   "nbconvert_exporter": "python",
   "pygments_lexer": "ipython3",
   "version": "3.8.8"
  },
  "orig_nbformat": 4
 },
 "nbformat": 4,
 "nbformat_minor": 2
}
