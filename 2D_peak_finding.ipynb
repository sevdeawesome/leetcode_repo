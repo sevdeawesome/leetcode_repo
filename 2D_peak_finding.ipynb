{
 "cells": [
  {
   "cell_type": "code",
   "execution_count": 35,
   "metadata": {},
   "outputs": [],
   "source": [
    "island= [[0,10,0,0,0],\n",
    "          [0,1,1,1,0],\n",
    "          [0,1,1,1,0],\n",
    "          [0,1,1,1,0],\n",
    "          [0,0,0,0,0]]"
   ]
  },
  {
   "cell_type": "code",
   "execution_count": 82,
   "metadata": {},
   "outputs": [
    {
     "data": {
      "text/plain": [
       "[0, 1, 0, 0, 0]"
      ]
     },
     "execution_count": 82,
     "metadata": {},
     "output_type": "execute_result"
    }
   ],
   "source": [
    "[island[i][1] for i in range(len(island))]"
   ]
  },
  {
   "cell_type": "code",
   "execution_count": 104,
   "metadata": {},
   "outputs": [],
   "source": [
    "# return the index of the max a list\n",
    "def max_index(l):\n",
    "    max = -1000\n",
    "    max_index = 0\n",
    "    for i in range(len(l)):\n",
    "        if l[i] > max:\n",
    "            max = l[i]\n",
    "            max_index = i\n",
    "\n",
    "    return max_index\n",
    "    "
   ]
  },
  {
   "cell_type": "code",
   "execution_count": 92,
   "metadata": {},
   "outputs": [],
   "source": [
    "def max_in_column(arr, j):\n",
    "    max = 0\n",
    "    for i in range(len(arr)):\n",
    "        if arr[i][j] > max:\n",
    "            max = i\n",
    "    return max_in\n"
   ]
  },
  {
   "cell_type": "code",
   "execution_count": 129,
   "metadata": {},
   "outputs": [],
   "source": [
    "def findPeak(arr, top, bottom):\n",
    "\n",
    "    if top == bottom:\n",
    "        return max_index(arr[top])\n",
    "\n",
    "    i = (top + bottom) // 2\n",
    "\n",
    "    # j = middle\n",
    "    j = max_index(arr[i])\n",
    "\n",
    "\n",
    "    if i > 0 and arr[i-1][j] > arr[i][j]:\n",
    "        return arr(arr, top, j)\n",
    "    elif i < len(arr) - 1 and arr[i+1][j] > arr[i][j]:\n",
    "        return arr(arr, i, bottom)\n",
    "    else:\n",
    "        return i, j\n",
    "\n",
    "\n"
   ]
  },
  {
   "cell_type": "code",
   "execution_count": 130,
   "metadata": {},
   "outputs": [],
   "source": [
    "island = [[0,0,0,0,0],\n",
    "          [0,0,0,0,0],\n",
    "          [0,0,0,1,0],\n",
    "          [0,0,0,0,0],\n",
    "          [0,0,0,0,0]]"
   ]
  },
  {
   "cell_type": "code",
   "execution_count": 131,
   "metadata": {},
   "outputs": [
    {
     "data": {
      "text/plain": [
       "(2, 3)"
      ]
     },
     "execution_count": 131,
     "metadata": {},
     "output_type": "execute_result"
    }
   ],
   "source": [
    "findPeak(island, 0, len(island) - 1)"
   ]
  }
 ],
 "metadata": {
  "interpreter": {
   "hash": "ca49ff0ffe1808df299e2fa61a14697f92eb8fb3e9a660d64db98d3fdcc9e2a2"
  },
  "kernelspec": {
   "display_name": "Python 3.8.8 ('base')",
   "language": "python",
   "name": "python3"
  },
  "language_info": {
   "codemirror_mode": {
    "name": "ipython",
    "version": 3
   },
   "file_extension": ".py",
   "mimetype": "text/x-python",
   "name": "python",
   "nbconvert_exporter": "python",
   "pygments_lexer": "ipython3",
   "version": "3.8.8"
  },
  "orig_nbformat": 4
 },
 "nbformat": 4,
 "nbformat_minor": 2
}
