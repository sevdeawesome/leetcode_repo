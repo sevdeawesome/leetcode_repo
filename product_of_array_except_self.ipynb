{
 "cells": [
  {
   "cell_type": "code",
   "execution_count": null,
   "metadata": {},
   "outputs": [],
   "source": [
    "class Solution:\n",
    "    def productExceptSelf(self, nums: List[int]) -> List[int]:\n",
    "        prefix = [0] * len(nums)\n",
    "        postfix = [0] * len(nums)\n",
    "        output = [0] * len(nums)\n",
    "        \n",
    "        prefix_product = 1\n",
    "        for i in range(len(nums)):\n",
    "            prefix[i] = prefix_product\n",
    "            prefix_product *= nums[i]\n",
    "            \n",
    "        postfix_product = 1\n",
    "        for i in range(len(nums)-1,-1,-1):\n",
    "            postfix[i] = postfix_product\n",
    "            postfix_product *= nums[i]\n",
    "        \n",
    "        for i in range(len(nums)):\n",
    "            output[i] = prefix[i] * postfix[i]\n",
    "            \n",
    "        return output\n",
    "            "
   ]
  }
 ],
 "metadata": {
  "language_info": {
   "name": "python"
  },
  "orig_nbformat": 4
 },
 "nbformat": 4,
 "nbformat_minor": 2
}
