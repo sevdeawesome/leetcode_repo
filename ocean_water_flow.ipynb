{
 "cells": [
  {
   "cell_type": "code",
   "execution_count": 24,
   "metadata": {},
   "outputs": [],
   "source": [
    "heights = [\n",
    "    [1,2,2,3,5],\n",
    "    [3,2,3,4,4],\n",
    "    [2,4,5,3,1],\n",
    "    [6,7,1,4,5],\n",
    "    [5,1,1,2,4]\n",
    "]"
   ]
  },
  {
   "cell_type": "code",
   "execution_count": 25,
   "metadata": {},
   "outputs": [],
   "source": [
    "atlantic = set()\n",
    "pacific = set()\n",
    "\n",
    "NUM_ROWS = len(heights)\n",
    "NUM_COLS = len(heights[0])\n",
    "# takes in point i, j, returns if water can flow to pacific\n",
    "def search(i,j,ocean, height):\n",
    "    if i == NUM_ROWS or j == NUM_COLS or (i,j) in ocean or heights[i][j] < height or i < 0 or j < 0:\n",
    "        return\n",
    "\n",
    "    ocean.add((i,j))\n",
    "\n",
    "    search(i,j+1, ocean, heights[i][j])\n",
    "    search(i,j-1, ocean, heights[i][j])\n",
    "    search(i-1,j, ocean, heights[i][j])\n",
    "    search(i+1,j, ocean, heights[i][j])\n",
    "\n",
    "    \n",
    "\n",
    "\n",
    "# search everything along the top row (pacific) and bottom row atlantic\n",
    "for i in range(NUM_ROWS):\n",
    "    search(0,i, pacific, heights[0][i])\n",
    "    search(NUM_ROWS - 1,i, atlantic, heights[NUM_ROWS - 1][i])\n",
    "   \n",
    "for i in range(NUM_COLS):\n",
    "    search(i,0, pacific, heights[i][0])\n",
    "    search(i,NUM_COLS - 1, atlantic, heights[NUM_COLS - 1][i])\n",
    "\n",
    "\n",
    "answer = []\n",
    "for i in range(NUM_ROWS):\n",
    "    for j in range(NUM_COLS):\n",
    "        if (i,j) in pacific and (i,j) in atlantic:\n",
    "            answer.append([i,j])\n",
    "\n",
    "\n",
    "    \n",
    "\n"
   ]
  },
  {
   "cell_type": "code",
   "execution_count": 20,
   "metadata": {},
   "outputs": [],
   "source": [
    "pacific = set()\n",
    "pacific.add((1,2))"
   ]
  },
  {
   "cell_type": "code",
   "execution_count": 21,
   "metadata": {},
   "outputs": [
    {
     "data": {
      "text/plain": [
       "{(1, 2)}"
      ]
     },
     "execution_count": 21,
     "metadata": {},
     "output_type": "execute_result"
    }
   ],
   "source": [
    "pacific"
   ]
  },
  {
   "cell_type": "code",
   "execution_count": 22,
   "metadata": {},
   "outputs": [
    {
     "data": {
      "text/plain": [
       "True"
      ]
     },
     "execution_count": 22,
     "metadata": {},
     "output_type": "execute_result"
    }
   ],
   "source": [
    "(1,2) in pacific"
   ]
  },
  {
   "cell_type": "code",
   "execution_count": null,
   "metadata": {},
   "outputs": [],
   "source": []
  }
 ],
 "metadata": {
  "interpreter": {
   "hash": "0455923e40e2e737c18579ba557e0023258e3f59c5b6158d7ea9815f606bf15f"
  },
  "kernelspec": {
   "display_name": "Python 3.8.8 ('base')",
   "language": "python",
   "name": "python3"
  },
  "language_info": {
   "codemirror_mode": {
    "name": "ipython",
    "version": 3
   },
   "file_extension": ".py",
   "mimetype": "text/x-python",
   "name": "python",
   "nbconvert_exporter": "python",
   "pygments_lexer": "ipython3",
   "version": "3.8.8"
  },
  "orig_nbformat": 4
 },
 "nbformat": 4,
 "nbformat_minor": 2
}
