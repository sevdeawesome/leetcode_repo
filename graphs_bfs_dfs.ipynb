{
 "cells": [
  {
   "cell_type": "code",
   "execution_count": 7,
   "metadata": {},
   "outputs": [],
   "source": [
    "\"\"\"\n",
    "create the graph\n",
    "A -> B,C,D\n",
    "B -> A\n",
    "C -> A\n",
    "D -> B,C\n",
    "\"\"\"\n",
    "class node:\n",
    "    def __init__(self, name):\n",
    "        self.name = name\n",
    "        self.neighbors = []\n",
    "\n",
    "    def add_neighbor(self, neighbor):\n",
    "        self.neighbors.append(neighbor)\n",
    "\n",
    "    def __str__(self):\n",
    "        return self.name\n",
    "\n",
    "# create node A\n",
    "A = node('A')\n",
    "# create node B\n",
    "B = node('B')\n",
    "# create node C\n",
    "C = node('C')\n",
    "# create node D\n",
    "D = node('D')\n",
    "\n",
    "E = node('E')\n",
    "# add neighbors to A\n",
    "A.add_neighbor(B)\n",
    "A.add_neighbor(C)\n",
    "A.add_neighbor(D)\n",
    "# add neighbors to B\n",
    "B.add_neighbor(A)\n",
    "D.add_neighbor(E)\n",
    "# add neighbors to C\n",
    "C.add_neighbor(A)\n",
    "# add neighbors to D\n",
    "D.add_neighbor(B)\n",
    "D.add_neighbor(C)\n",
    "\n",
    "\n"
   ]
  },
  {
   "cell_type": "code",
   "execution_count": 8,
   "metadata": {},
   "outputs": [],
   "source": [
    "# traverse using bfs printing at each stage\n",
    "def bfs(start):\n",
    "    # create a queue\n",
    "    queue = []\n",
    "    # create a set to store visited nodes\n",
    "    visited = set()\n",
    "    # add the start node to the queue\n",
    "    queue.append(start)\n",
    "    # while the queue is not empty\n",
    "    while queue:\n",
    "        # pop the first node from the queue\n",
    "        node = queue.pop(0)\n",
    "        # if the node is not visited\n",
    "        if node not in visited:\n",
    "            # print the node\n",
    "            print(node)\n",
    "            # add the node to the visited set\n",
    "            visited.add(node)\n",
    "            # add the neighbors of the node to the queue\n",
    "            for neighbor in node.neighbors:\n",
    "                queue.append(neighbor)\n",
    "\n",
    "                "
   ]
  },
  {
   "cell_type": "code",
   "execution_count": 6,
   "metadata": {},
   "outputs": [
    {
     "name": "stdout",
     "output_type": "stream",
     "text": [
      "A\n",
      "B\n",
      "C\n",
      "D\n",
      "E\n"
     ]
    }
   ],
   "source": [
    "bfs(A)"
   ]
  },
  {
   "cell_type": "code",
   "execution_count": null,
   "metadata": {},
   "outputs": [],
   "source": []
  }
 ],
 "metadata": {
  "interpreter": {
   "hash": "0455923e40e2e737c18579ba557e0023258e3f59c5b6158d7ea9815f606bf15f"
  },
  "kernelspec": {
   "display_name": "Python 3.8.8 ('base')",
   "language": "python",
   "name": "python3"
  },
  "language_info": {
   "codemirror_mode": {
    "name": "ipython",
    "version": 3
   },
   "file_extension": ".py",
   "mimetype": "text/x-python",
   "name": "python",
   "nbconvert_exporter": "python",
   "pygments_lexer": "ipython3",
   "version": "3.8.8"
  },
  "orig_nbformat": 4
 },
 "nbformat": 4,
 "nbformat_minor": 2
}
