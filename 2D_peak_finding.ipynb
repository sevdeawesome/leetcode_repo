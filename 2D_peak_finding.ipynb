{
 "cells": [
  {
   "cell_type": "code",
   "execution_count": 35,
   "metadata": {},
   "outputs": [],
   "source": [
    "island= [[0,10,0,0,0],\n",
    "          [0,1,1,1,0],\n",
    "          [0,1,1,1,0],\n",
    "          [0,1,1,1,0],\n",
    "          [0,0,0,0,0]]"
   ]
  },
  {
   "cell_type": "code",
   "execution_count": 82,
   "metadata": {},
   "outputs": [
    {
     "data": {
      "text/plain": [
       "[0, 1, 0, 0, 0]"
      ]
     },
     "execution_count": 82,
     "metadata": {},
     "output_type": "execute_result"
    }
   ],
   "source": [
    "[island[i][1] for i in range(len(island))]"
   ]
  },
  {
   "cell_type": "code",
   "execution_count": 12,
   "metadata": {},
   "outputs": [],
   "source": [
    "# return the index of a peak where arr[j-1] < arr[j] > arr[j+1]\n",
    "def peakFind(arr):\n",
    "    j = len(arr) // 2 #center row index\n",
    "    \n",
    "    # if arr[j] < arr[j-1] only look at the left side, because if it is less than its left there must be a peak on the left side\n",
    "    if j > 0 and arr[j] < arr[j-1]:\n",
    "        return peakFind(arr[:j])\n",
    "    # if arr[j] < arr[j+1] only look at the right side\n",
    "    elif j < len(arr) - 1 and arr[j] < arr[j+1]:\n",
    "        return peakFind(arr[j+1:])\n",
    "    else:\n",
    "        return j\n",
    "    "
   ]
  },
  {
   "cell_type": "code",
   "execution_count": 92,
   "metadata": {},
   "outputs": [],
   "source": [
    "def max_in_column(arr, j):\n",
    "    max = 0\n",
    "    for i in range(len(arr)):\n",
    "        if arr[i][j] > max:\n",
    "            max = i\n",
    "    return max\n"
   ]
  },
  {
   "cell_type": "code",
   "execution_count": 97,
   "metadata": {},
   "outputs": [],
   "source": [
    "island = [[0,0,0,0,0],\n",
    "          [0,0,0,0,0],\n",
    "          [0,0,0,1,0],\n",
    "          [0,0,5,0,0],\n",
    "          [0,3,0,0,0]]"
   ]
  },
  {
   "cell_type": "code",
   "execution_count": 94,
   "metadata": {},
   "outputs": [
    {
     "data": {
      "text/plain": [
       "[0, 0, 0, 1, 0]"
      ]
     },
     "execution_count": 94,
     "metadata": {},
     "output_type": "execute_result"
    }
   ],
   "source": [
    "island[2]"
   ]
  },
  {
   "cell_type": "code",
   "execution_count": 95,
   "metadata": {},
   "outputs": [
    {
     "data": {
      "text/plain": [
       "4"
      ]
     },
     "execution_count": 95,
     "metadata": {},
     "output_type": "execute_result"
    }
   ],
   "source": [
    "max_in_column(island, 1)"
   ]
  },
  {
   "cell_type": "code",
   "execution_count": 78,
   "metadata": {},
   "outputs": [
    {
     "data": {
      "text/plain": [
       "3"
      ]
     },
     "execution_count": 78,
     "metadata": {},
     "output_type": "execute_result"
    }
   ],
   "source": [
    "peakFind([0,1,0,0,0,0,0])"
   ]
  },
  {
   "cell_type": "code",
   "execution_count": 99,
   "metadata": {},
   "outputs": [
    {
     "data": {
      "text/plain": [
       "5"
      ]
     },
     "execution_count": 99,
     "metadata": {},
     "output_type": "execute_result"
    }
   ],
   "source": [
    "len(island[0])"
   ]
  },
  {
   "cell_type": "code",
   "execution_count": 103,
   "metadata": {},
   "outputs": [
    {
     "name": "stdout",
     "output_type": "stream",
     "text": [
      "0\n",
      "0\n",
      "0\n",
      "0\n",
      "0\n",
      "\n",
      "\n",
      "0\n",
      "0\n",
      "0\n",
      "0\n",
      "0\n",
      "\n",
      "\n",
      "0\n",
      "0\n",
      "0\n",
      "1\n",
      "0\n",
      "\n",
      "\n",
      "0\n",
      "0\n",
      "5\n",
      "0\n",
      "0\n",
      "\n",
      "\n",
      "0\n",
      "3\n",
      "0\n",
      "0\n",
      "0\n",
      "\n",
      "\n"
     ]
    }
   ],
   "source": [
    "for i in range(len(island)):\n",
    "    for j in range(len(island[0])):\n",
    "        print(island[i][j])\n",
    "    print(\"\\n\")"
   ]
  },
  {
   "cell_type": "code",
   "execution_count": null,
   "metadata": {},
   "outputs": [],
   "source": [
    "island = [[0,0,0,0,0],\n",
    "          [0,0,0,0,0],\n",
    "          [0,0,0,1,0],\n",
    "          [0,0,5,0,0],\n",
    "          [0,3,0,0,0]]"
   ]
  },
  {
   "cell_type": "code",
   "execution_count": null,
   "metadata": {},
   "outputs": [],
   "source": []
  }
 ],
 "metadata": {
  "interpreter": {
   "hash": "ca49ff0ffe1808df299e2fa61a14697f92eb8fb3e9a660d64db98d3fdcc9e2a2"
  },
  "kernelspec": {
   "display_name": "Python 3.8.8 ('base')",
   "language": "python",
   "name": "python3"
  },
  "language_info": {
   "codemirror_mode": {
    "name": "ipython",
    "version": 3
   },
   "file_extension": ".py",
   "mimetype": "text/x-python",
   "name": "python",
   "nbconvert_exporter": "python",
   "pygments_lexer": "ipython3",
   "version": "3.8.8"
  },
  "orig_nbformat": 4
 },
 "nbformat": 4,
 "nbformat_minor": 2
}
